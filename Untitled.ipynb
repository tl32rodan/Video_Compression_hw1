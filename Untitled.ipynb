{
 "cells": [
  {
   "cell_type": "code",
   "execution_count": 2,
   "metadata": {},
   "outputs": [],
   "source": [
    "import numpy as np\n",
    "import os\n",
    "import torch\n",
    "import torch.nn.functional as F\n",
    "import cv2\n",
    "import time"
   ]
  },
  {
   "cell_type": "code",
   "execution_count": 47,
   "metadata": {},
   "outputs": [
    {
     "data": {
      "text/plain": [
       "array([[[1, 1, 1],\n",
       "        [2, 2, 2],\n",
       "        [3, 3, 3]],\n",
       "\n",
       "       [[1, 1, 1],\n",
       "        [1, 1, 1],\n",
       "        [1, 1, 1]],\n",
       "\n",
       "       [[2, 2, 2],\n",
       "        [2, 2, 2],\n",
       "        [2, 2, 2]]])"
      ]
     },
     "execution_count": 47,
     "metadata": {},
     "output_type": "execute_result"
    }
   ],
   "source": [
    "video = []\n",
    "video.append([[1,1,1],[2,2,2],[3,3,3]])\n",
    "video.append([[1,1,1],[1,1,1],[1,1,1]])\n",
    "video.append([[2,2,2],[2,2,2],[2,2,2]])\n",
    "#video = [[video]]\n",
    "video = np.array(video)\n",
    "video"
   ]
  },
  {
   "cell_type": "code",
   "execution_count": 79,
   "metadata": {},
   "outputs": [
    {
     "data": {
      "text/plain": [
       "tensor([14.])"
      ]
     },
     "execution_count": 79,
     "metadata": {},
     "output_type": "execute_result"
    }
   ],
   "source": [
    "L_x = 3\n",
    "L_y = 3\n",
    "L_z = 3\n",
    "\n",
    "m_x = 2\n",
    "m_y = 2\n",
    "m_z = 2\n",
    "inputs = torch.Tensor([[video[:m_x,:m_y,:m_z]]])\n",
    "filters = torch.Tensor([[video[-m_x:,-m_y:,-m_z:]]])\n",
    "F.conv3d(inputs, filters).view(-1)"
   ]
  },
  {
   "cell_type": "code",
   "execution_count": 63,
   "metadata": {},
   "outputs": [
    {
     "data": {
      "text/plain": [
       "tensor([[[[[1., 1.],\n",
       "           [2., 2.]],\n",
       "\n",
       "          [[1., 1.],\n",
       "           [1., 1.]]]]])"
      ]
     },
     "execution_count": 63,
     "metadata": {},
     "output_type": "execute_result"
    }
   ],
   "source": [
    "inputs"
   ]
  },
  {
   "cell_type": "code",
   "execution_count": 64,
   "metadata": {},
   "outputs": [
    {
     "data": {
      "text/plain": [
       "tensor([[[[[1., 1.],\n",
       "           [1., 1.]],\n",
       "\n",
       "          [[2., 2.],\n",
       "           [2., 2.]]]]])"
      ]
     },
     "execution_count": 64,
     "metadata": {},
     "output_type": "execute_result"
    }
   ],
   "source": [
    "filters"
   ]
  },
  {
   "cell_type": "code",
   "execution_count": 396,
   "metadata": {},
   "outputs": [],
   "source": [
    "def autocorrelation(input_seq, m_x, m_y, m_t, L_x=352, L_y=288, L_t=100, device=torch.device('cpu')):\n",
    "    '''\n",
    "        input_seq : numpy.ndarray(3d) or torch.Tensor(5d)\n",
    "        m_x, m_y, m_z : Scalar\n",
    "        L_x, L_y, L_z : Scalar\n",
    "    ''' \n",
    "    \n",
    "    if abs(m_x) >= L_x or abs(m_y) >= L_y or abs(m_t) >= L_t:\n",
    "        return 0\n",
    "    \n",
    "    #input_seq = torch.Tensor([[input_seq]]).type(torch.float64).to(device)\n",
    "    \n",
    "    if type(input_seq) == np.ndarray and len(input_seq.shape) == 3:\n",
    "        input_seq = torch.Tensor([[input_seq]]).type(torch.float32).to(device)\n",
    "    elif type(input_seq) == torch.Tensor and len(input_seq.shape) == 5:\n",
    "        pass\n",
    "    else:\n",
    "        raise ValueError\n",
    "    \n",
    "    \n",
    "    inputs = input_seq[:, :, :L_t-abs(m_t),:L_y-abs(m_y),:L_x-(m_x)]\n",
    "    filters = input_seq[:, :, -abs(m_t):,-abs(m_y):,-abs(m_x):]\n",
    "    \n",
    "    #start_t = time.time()\n",
    "    \n",
    "    C_xxx = F.conv3d(inputs, filters).view(-1)[0].cpu().numpy()\n",
    "    R_xxx = C_xxx / ((L_x-abs(m_x))*(L_y-abs(m_y))*(L_t-abs(m_t)))\n",
    "    \n",
    "    #end_t = time.time()\n",
    "    #print('Autocorrelation value = ',R_xxx,' ; time = ',end_t-start_t)\n",
    "    return R_xxx"
   ]
  },
  {
   "cell_type": "code",
   "execution_count": 407,
   "metadata": {},
   "outputs": [
    {
     "name": "stdout",
     "output_type": "stream",
     "text": [
      "100\n"
     ]
    }
   ],
   "source": [
    "yuv_filename = './MOBILE_352x288_10.yuv'\n",
    "with open(yuv_filename ,'rb') as f:\n",
    "    width, height, n_frames = 352, 288, 100\n",
    "    \n",
    "    Y = []\n",
    "    U = []\n",
    "    V = []\n",
    "    print(n_frames)\n",
    "    \n",
    "    for i in range(n_frames):\n",
    "        yuv_frame = np.frombuffer(f.read(width*height*3//2), dtype=np.uint8)\n",
    "        Y.append(np.array(yuv_frame[:width*height]).reshape(height, width))\n",
    "        U.append(np.array(yuv_frame[width*height:-width*height//4]))\n",
    "        V.append(np.array(yuv_frame[-width*height//4:]))\n",
    "        \n",
    "    Y = np.array(Y)\n",
    "    U = np.array(U)\n",
    "    V = np.array(V)\n",
    "    f.close()"
   ]
  },
  {
   "cell_type": "code",
   "execution_count": 408,
   "metadata": {},
   "outputs": [
    {
     "data": {
      "text/plain": [
       "array([[[ 86,  83,  82, ...,  98,  92,  91],\n",
       "        [ 79,  81,  83, ...,  90,  94,  86],\n",
       "        [ 74,  84,  82, ...,  75,  99,  85],\n",
       "        ...,\n",
       "        [ 61,  61,  83, ..., 112,  74,  22],\n",
       "        [ 74,  62,  72, ..., 165, 102,  30],\n",
       "        [ 84,  71,  63, ..., 126,  79,  39]],\n",
       "\n",
       "       [[ 73,  83,  82, ..., 114,  92,  97],\n",
       "        [ 66,  72,  83, ...,  93,  96,  87],\n",
       "        [ 70,  65,  76, ...,  78, 100,  84],\n",
       "        ...,\n",
       "        [ 63,  74,  83, ...,  26,  27,  22],\n",
       "        [ 64,  68,  82, ...,  29,  25,  22],\n",
       "        [ 63,  64,  80, ...,  26,  23,  22]],\n",
       "\n",
       "       [[ 73,  68,  68, ...,  81, 115, 100],\n",
       "        [ 64,  70,  67, ...,  96,  95,  91],\n",
       "        [ 65,  74,  69, ...,  86,  92,  85],\n",
       "        ...,\n",
       "        [ 61,  68,  73, ...,  21,  22,  21],\n",
       "        [ 59,  73,  80, ...,  20,  22,  23],\n",
       "        [ 62,  77,  83, ...,  20,  21,  22]],\n",
       "\n",
       "       ...,\n",
       "\n",
       "       [[ 90,  95,  67, ..., 181, 170, 145],\n",
       "        [ 71, 111, 125, ..., 186, 190, 185],\n",
       "        [ 74,  88, 112, ..., 192, 203, 217],\n",
       "        ...,\n",
       "        [ 46,  35,  32, ...,  51,  51,  67],\n",
       "        [ 57,  46,  40, ...,  59,  54,  57],\n",
       "        [ 74,  74,  59, ...,  60,  54,  56]],\n",
       "\n",
       "       [[ 86,  80,  68, ..., 184, 184, 186],\n",
       "        [ 84, 111,  92, ..., 189, 188, 188],\n",
       "        [ 85, 106,  87, ..., 210, 209, 199],\n",
       "        ...,\n",
       "        [ 43,  48,  54, ...,  49,  60,  59],\n",
       "        [ 48,  46,  61, ...,  53,  62,  68],\n",
       "        [ 61,  59,  68, ...,  52,  57,  70]],\n",
       "\n",
       "       [[ 98,  92,  78, ..., 160, 190, 189],\n",
       "        [116, 116,  95, ..., 162, 193, 195],\n",
       "        [113, 110,  83, ..., 161, 203, 207],\n",
       "        ...,\n",
       "        [ 32,  35,  40, ...,  43,  49,  46],\n",
       "        [ 40,  50,  53, ...,  43,  52,  54],\n",
       "        [ 27,  43,  66, ...,  52,  55,  54]]], dtype=uint8)"
      ]
     },
     "execution_count": 408,
     "metadata": {},
     "output_type": "execute_result"
    }
   ],
   "source": [
    "Y"
   ]
  },
  {
   "cell_type": "code",
   "execution_count": 403,
   "metadata": {},
   "outputs": [],
   "source": [
    "_Y = []\n",
    "for frame in Y:\n",
    "    _Y.append(frame-frame.mean())\n",
    "    \n",
    "Y = np.array(_Y)"
   ]
  },
  {
   "cell_type": "code",
   "execution_count": 412,
   "metadata": {},
   "outputs": [
    {
     "name": "stdout",
     "output_type": "stream",
     "text": [
      "cuda:0\n",
      "Autocorrelation value =  18847.773737373736  ; time =  1.0242891311645508\n"
     ]
    }
   ],
   "source": [
    "device = torch.device('cuda:0' if torch.cuda.is_available() else 'cpu')     \n",
    "print(device)\n",
    "input_seq = torch.Tensor([[Y]]).type(torch.float32).to(device)\n",
    "\n",
    "start_t = time.time()\n",
    "\n",
    "result = autocorrelation(input_seq, m_x=0, m_y=0,m_t=0, device=device)\n",
    "\n",
    "end_t = time.time()\n",
    "\n",
    "print('Autocorrelation value = ',result,' ; time = ',end_t-start_t)"
   ]
  },
  {
   "cell_type": "code",
   "execution_count": 409,
   "metadata": {},
   "outputs": [
    {
     "name": "stdout",
     "output_type": "stream",
     "text": [
      "Autocorrelation value =  19220.782222222224  ; time =  1.691354513168335\n"
     ]
    }
   ],
   "source": [
    "start_t = time.time()\n",
    "\n",
    "result = autocorrelation(Y, m_x=0, m_y=0,m_t=0)\n",
    "\n",
    "end_t = time.time()\n",
    "\n",
    "print('Autocorrelation value = ',result,' ; time = ',end_t-start_t)"
   ]
  },
  {
   "cell_type": "markdown",
   "metadata": {},
   "source": [
    "### Try"
   ]
  },
  {
   "cell_type": "code",
   "execution_count": 417,
   "metadata": {},
   "outputs": [
    {
     "name": "stdout",
     "output_type": "stream",
     "text": [
      "Total time =  19.094998359680176\n",
      "Average time =  0.014346354890819065\n"
     ]
    }
   ],
   "source": [
    "\n",
    "R_xxx = np.zeros([21,144,176])\n",
    "start_t = time.time()\n",
    "\n",
    "input_seq = torch.Tensor([[Y]]).type(torch.float32).to(device)\n",
    "\n",
    "counter=0\n",
    "for m_x in range(10+1):\n",
    "    m_x_fill = [m_x]\n",
    "    if m_x < 88 and m_x !=0:\n",
    "        m_x_fill.append(176-m_x)\n",
    "        \n",
    "    for m_y in range(10+1):\n",
    "        m_y_fill = [m_y]\n",
    "        if m_y < 72 and m_y !=0:\n",
    "            m_y_fill.append(144-m_y)\n",
    "            \n",
    "        for m_t in range(11):\n",
    "            m_t_fill = [10+m_t, 10-m_t]\n",
    "            \n",
    "            #####################################\n",
    "            result = autocorrelation(input_seq, m_x, m_y, m_t, device=device)\n",
    "            #####################################\n",
    "            \n",
    "            for x in m_x_fill:\n",
    "                for y in m_y_fill:\n",
    "                    for t in m_t_fill:\n",
    "                        R_xxx[t][y][x] = result\n",
    "            counter += 1\n",
    "end_t = time.time()\n",
    "print('Total time = ',end_t-start_t)\n",
    "print('Average time = ', (end_t-start_t)/counter)"
   ]
  },
  {
   "cell_type": "code",
   "execution_count": 415,
   "metadata": {},
   "outputs": [
    {
     "name": "stdout",
     "output_type": "stream",
     "text": [
      "Total time =  11.155659675598145\n",
      "Average time =  1.0141508795998313\n"
     ]
    }
   ],
   "source": [
    "R_xxx_cpu = np.zeros([21,144,176])\n",
    "start_t = time.time()\n",
    "\n",
    "input_seq = Y\n",
    "\n",
    "counter =0\n",
    "for m_x in range(10+1):\n",
    "    m_x_fill = [m_x]\n",
    "    if m_x < 88 and m_x !=0:\n",
    "        m_x_fill.append(176-m_x)\n",
    "        \n",
    "    for m_y in range(10+1):\n",
    "        m_y_fill = [m_y]\n",
    "        if m_y < 72 and m_y !=0:\n",
    "            m_y_fill.append(144-m_y)\n",
    "            \n",
    "        for m_t in range(11):\n",
    "            m_t_fill = [10+m_t, 10-m_t]\n",
    "            \n",
    "            #####################################\n",
    "            result = autocorrelation(input_seq, m_x, m_y, m_t, device=device)\n",
    "            #####################################\n",
    "            \n",
    "            for x in m_x_fill:\n",
    "                for y in m_y_fill:\n",
    "                    for t in m_t_fill:\n",
    "                        R_xxx[t][y][x] = result\n",
    "\n",
    "            counter += 1\n",
    "        break\n",
    "    break\n",
    "end_t = time.time()\n",
    "print('Total time = ',end_t-start_t)\n",
    "print('Average time = ', (end_t-start_t)/counter)"
   ]
  },
  {
   "cell_type": "markdown",
   "metadata": {},
   "source": [
    "## 正式來"
   ]
  },
  {
   "cell_type": "code",
   "execution_count": 416,
   "metadata": {},
   "outputs": [
    {
     "ename": "KeyboardInterrupt",
     "evalue": "",
     "output_type": "error",
     "traceback": [
      "\u001b[0;31m---------------------------------------------------------------------------\u001b[0m",
      "\u001b[0;31mKeyboardInterrupt\u001b[0m                         Traceback (most recent call last)",
      "\u001b[0;32m<ipython-input-416-ff708cb63ee7>\u001b[0m in \u001b[0;36m<module>\u001b[0;34m\u001b[0m\n\u001b[1;32m     18\u001b[0m \u001b[0;34m\u001b[0m\u001b[0m\n\u001b[1;32m     19\u001b[0m             \u001b[0;31m#####################################\u001b[0m\u001b[0;34m\u001b[0m\u001b[0;34m\u001b[0m\u001b[0;34m\u001b[0m\u001b[0m\n\u001b[0;32m---> 20\u001b[0;31m             \u001b[0mresult\u001b[0m \u001b[0;34m=\u001b[0m \u001b[0mautocorrelation\u001b[0m\u001b[0;34m(\u001b[0m\u001b[0minput_seq\u001b[0m\u001b[0;34m,\u001b[0m \u001b[0mm_x\u001b[0m\u001b[0;34m,\u001b[0m \u001b[0mm_y\u001b[0m\u001b[0;34m,\u001b[0m \u001b[0mm_t\u001b[0m\u001b[0;34m,\u001b[0m \u001b[0mdevice\u001b[0m\u001b[0;34m=\u001b[0m\u001b[0mdevice\u001b[0m\u001b[0;34m)\u001b[0m\u001b[0;34m\u001b[0m\u001b[0;34m\u001b[0m\u001b[0m\n\u001b[0m\u001b[1;32m     21\u001b[0m             \u001b[0;31m#####################################\u001b[0m\u001b[0;34m\u001b[0m\u001b[0;34m\u001b[0m\u001b[0;34m\u001b[0m\u001b[0m\n\u001b[1;32m     22\u001b[0m \u001b[0;34m\u001b[0m\u001b[0m\n",
      "\u001b[0;32m<ipython-input-396-185e812d8a9a>\u001b[0m in \u001b[0;36mautocorrelation\u001b[0;34m(input_seq, m_x, m_y, m_t, L_x, L_y, L_t, device)\u001b[0m\n\u001b[1;32m     24\u001b[0m     \u001b[0;31m#start_t = time.time()\u001b[0m\u001b[0;34m\u001b[0m\u001b[0;34m\u001b[0m\u001b[0;34m\u001b[0m\u001b[0m\n\u001b[1;32m     25\u001b[0m \u001b[0;34m\u001b[0m\u001b[0m\n\u001b[0;32m---> 26\u001b[0;31m     \u001b[0mC_xxx\u001b[0m \u001b[0;34m=\u001b[0m \u001b[0mF\u001b[0m\u001b[0;34m.\u001b[0m\u001b[0mconv3d\u001b[0m\u001b[0;34m(\u001b[0m\u001b[0minputs\u001b[0m\u001b[0;34m,\u001b[0m \u001b[0mfilters\u001b[0m\u001b[0;34m)\u001b[0m\u001b[0;34m.\u001b[0m\u001b[0mview\u001b[0m\u001b[0;34m(\u001b[0m\u001b[0;34m-\u001b[0m\u001b[0;36m1\u001b[0m\u001b[0;34m)\u001b[0m\u001b[0;34m[\u001b[0m\u001b[0;36m0\u001b[0m\u001b[0;34m]\u001b[0m\u001b[0;34m.\u001b[0m\u001b[0mcpu\u001b[0m\u001b[0;34m(\u001b[0m\u001b[0;34m)\u001b[0m\u001b[0;34m.\u001b[0m\u001b[0mnumpy\u001b[0m\u001b[0;34m(\u001b[0m\u001b[0;34m)\u001b[0m\u001b[0;34m\u001b[0m\u001b[0;34m\u001b[0m\u001b[0m\n\u001b[0m\u001b[1;32m     27\u001b[0m     \u001b[0mR_xxx\u001b[0m \u001b[0;34m=\u001b[0m \u001b[0mC_xxx\u001b[0m \u001b[0;34m/\u001b[0m \u001b[0;34m(\u001b[0m\u001b[0;34m(\u001b[0m\u001b[0mL_x\u001b[0m\u001b[0;34m-\u001b[0m\u001b[0mabs\u001b[0m\u001b[0;34m(\u001b[0m\u001b[0mm_x\u001b[0m\u001b[0;34m)\u001b[0m\u001b[0;34m)\u001b[0m\u001b[0;34m*\u001b[0m\u001b[0;34m(\u001b[0m\u001b[0mL_y\u001b[0m\u001b[0;34m-\u001b[0m\u001b[0mabs\u001b[0m\u001b[0;34m(\u001b[0m\u001b[0mm_y\u001b[0m\u001b[0;34m)\u001b[0m\u001b[0;34m)\u001b[0m\u001b[0;34m*\u001b[0m\u001b[0;34m(\u001b[0m\u001b[0mL_t\u001b[0m\u001b[0;34m-\u001b[0m\u001b[0mabs\u001b[0m\u001b[0;34m(\u001b[0m\u001b[0mm_t\u001b[0m\u001b[0;34m)\u001b[0m\u001b[0;34m)\u001b[0m\u001b[0;34m)\u001b[0m\u001b[0;34m\u001b[0m\u001b[0;34m\u001b[0m\u001b[0m\n\u001b[1;32m     28\u001b[0m \u001b[0;34m\u001b[0m\u001b[0m\n",
      "\u001b[0;31mKeyboardInterrupt\u001b[0m: "
     ]
    }
   ],
   "source": [
    "\n",
    "R_xxx = np.zeros([21,144,176])\n",
    "start_t = time.time()\n",
    "\n",
    "input_seq = torch.Tensor([[Y]]).type(torch.float64).to(device)\n",
    "\n",
    "for m_x in range(88+1):\n",
    "    m_x_fill = [m_x]\n",
    "    if m_x < 88 and m_x !=0:\n",
    "        m_x_fill.append(176-m_x)\n",
    "        \n",
    "    for m_y in range(72+1):\n",
    "        m_y_fill = [m_y]\n",
    "        if m_y < 72 and m_y !=0:\n",
    "            m_y_fill.append(144-m_y)\n",
    "            \n",
    "        for m_t in range(11):\n",
    "            m_t_fill = [10+m_t, 10-m_t]\n",
    "            \n",
    "            #####################################\n",
    "            result = autocorrelation(input_seq, m_x, m_y, m_t, device=device)\n",
    "            #####################################\n",
    "            \n",
    "            for x in m_x_fill:\n",
    "                for y in m_y_fill:\n",
    "                    for t in m_t_fill:\n",
    "                        R_xxx[t][y][x] = result\n",
    "\n",
    "end_t = time.time()\n",
    "print('Average time = ', (end_t-start_t)/(21*144*176))"
   ]
  },
  {
   "cell_type": "code",
   "execution_count": 197,
   "metadata": {},
   "outputs": [
    {
     "data": {
      "text/plain": [
       "array([[[ 0,  1,  2,  3,  4],\n",
       "        [ 5,  6,  7,  8,  9],\n",
       "        [10, 11, 12, 13, 14],\n",
       "        [15, 16, 17, 18, 19]],\n",
       "\n",
       "       [[20, 21, 22, 23, 24],\n",
       "        [25, 26, 27, 28, 29],\n",
       "        [30, 31, 32, 33, 34],\n",
       "        [35, 36, 37, 38, 39]],\n",
       "\n",
       "       [[40, 41, 42, 43, 44],\n",
       "        [45, 46, 47, 48, 49],\n",
       "        [50, 51, 52, 53, 54],\n",
       "        [55, 56, 57, 58, 59]]])"
      ]
     },
     "execution_count": 197,
     "metadata": {},
     "output_type": "execute_result"
    }
   ],
   "source": [
    "a = np.arange(60)\n",
    "a.reshape(3,4,-1)"
   ]
  },
  {
   "cell_type": "code",
   "execution_count": 232,
   "metadata": {},
   "outputs": [
    {
     "data": {
      "text/plain": [
       "(21, 144, 176)"
      ]
     },
     "execution_count": 232,
     "metadata": {},
     "output_type": "execute_result"
    }
   ],
   "source": [
    "R_xxx = np.zeros([21,144,176])\n",
    "R_xxx.shape"
   ]
  },
  {
   "cell_type": "code",
   "execution_count": null,
   "metadata": {},
   "outputs": [],
   "source": []
  },
  {
   "cell_type": "code",
   "execution_count": null,
   "metadata": {},
   "outputs": [],
   "source": []
  }
 ],
 "metadata": {
  "kernelspec": {
   "display_name": "Python 3",
   "language": "python",
   "name": "python3"
  }
 },
 "nbformat": 4,
 "nbformat_minor": 4
}
