{
 "cells": [
  {
   "cell_type": "markdown",
   "metadata": {},
   "source": [
    "# (一) Autocorrelation"
   ]
  },
  {
   "cell_type": "markdown",
   "metadata": {},
   "source": [
    "## 1."
   ]
  },
  {
   "cell_type": "code",
   "execution_count": 9,
   "metadata": {},
   "outputs": [],
   "source": [
    "import numpy as np\n",
    "import os\n",
    "import torch\n",
    "import torch.nn.functional as F\n",
    "import time"
   ]
  },
  {
   "cell_type": "code",
   "execution_count": 12,
   "metadata": {},
   "outputs": [],
   "source": [
    "def autocorrelation(input_seq, m_x, m_y, m_t, L_x=352, L_y=288, L_t=100, device=torch.device('cpu')):\n",
    "    '''\n",
    "        input_seq : numpy.ndarray(3d) or torch.Tensor(5d)\n",
    "        m_x, m_y, m_z : Scalar\n",
    "        L_x, L_y, L_z : Scalar\n",
    "    ''' \n",
    "    \n",
    "    if abs(m_x) >= L_x or abs(m_y) >= L_y or abs(m_t) >= L_t:\n",
    "        return 0\n",
    "    \n",
    "    #input_seq = torch.Tensor([[input_seq]]).type(torch.float64).to(device)\n",
    "    \n",
    "    if type(input_seq) == np.ndarray and len(input_seq.shape) == 3:\n",
    "        input_seq = torch.Tensor([[input_seq]]).type(torch.float32).to(device)\n",
    "    elif type(input_seq) == torch.Tensor and len(input_seq.shape) == 5:\n",
    "        pass\n",
    "    else:\n",
    "        raise ValueError\n",
    "    \n",
    "    \n",
    "    inputs = input_seq[:, :, :L_t-abs(m_t),:L_y-abs(m_y),:L_x-(m_x)]\n",
    "    filters = input_seq[:, :, -abs(m_t):,-abs(m_y):,-abs(m_x):]\n",
    "    \n",
    "    #start_t = time.time()\n",
    "    \n",
    "    C_xxx = F.conv3d(inputs, filters).view(-1)[0].cpu().numpy()\n",
    "    R_xxx = C_xxx / ((L_x-abs(m_x))*(L_y-abs(m_y))*(L_t-abs(m_t)))\n",
    "    \n",
    "    #end_t = time.time()\n",
    "    #print('Autocorrelation value = ',R_xxx,' ; time = ',end_t-start_t)\n",
    "    return R_xxx"
   ]
  },
  {
   "cell_type": "markdown",
   "metadata": {},
   "source": [
    "## 2."
   ]
  },
  {
   "cell_type": "code",
   "execution_count": 13,
   "metadata": {},
   "outputs": [],
   "source": [
    "yuv_filename = './MOBILE_352x288_10.yuv'"
   ]
  },
  {
   "cell_type": "code",
   "execution_count": 14,
   "metadata": {},
   "outputs": [
    {
     "name": "stdout",
     "output_type": "stream",
     "text": [
      "100\n"
     ]
    }
   ],
   "source": [
    "with open(yuv_filename ,'rb') as f:\n",
    "    width, height, n_frames = 352, 288, 100\n",
    "    \n",
    "    Y = []\n",
    "    U = []\n",
    "    V = []\n",
    "    print(n_frames)\n",
    "    \n",
    "    for i in range(n_frames):\n",
    "        yuv_frame = np.frombuffer(f.read(width*height*3//2), dtype=np.uint8)\n",
    "        Y.append(np.array(yuv_frame[:width*height]).reshape(height, width))\n",
    "        U.append(np.array(yuv_frame[width*height:-width*height//4]))\n",
    "        V.append(np.array(yuv_frame[-width*height//4:]))\n",
    "        \n",
    "    Y = np.array(Y)\n",
    "    U = np.array(U)\n",
    "    V = np.array(V)\n",
    "    f.close()\n",
    "    \n",
    "_Y = []\n",
    "for frame in Y:\n",
    "    _Y.append(frame-frame.mean())\n",
    "    \n",
    "Y = np.array(_Y)"
   ]
  },
  {
   "cell_type": "code",
   "execution_count": null,
   "metadata": {},
   "outputs": [],
   "source": [
    "device = torch.device('cuda:0' if torch.cuda.is_available() else 'cpu')     \n",
    "\n",
    "R_xxx = np.zeros([21,144,176])\n",
    "\n",
    "start_t = time.time()\n",
    "\n",
    "input_seq = torch.Tensor([[Y]]).type(torch.float64).to(device)\n",
    "\n",
    "for m_x in range(88+1):\n",
    "    m_x_fill = [m_x]\n",
    "    if m_x < 88 and m_x !=0:\n",
    "        m_x_fill.append(176-m_x)\n",
    "        \n",
    "    for m_y in range(72+1):\n",
    "        m_y_fill = [m_y]\n",
    "        if m_y < 72 and m_y !=0:\n",
    "            m_y_fill.append(144-m_y)\n",
    "            \n",
    "        for m_t in range(11):\n",
    "            m_t_fill = [10+m_t, 10-m_t]\n",
    "            \n",
    "            #####################################\n",
    "            result = autocorrelation(input_seq, m_x, m_y, m_t, device=device)\n",
    "            #####################################\n",
    "            \n",
    "            for x in m_x_fill:\n",
    "                for y in m_y_fill:\n",
    "                    for t in m_t_fill:\n",
    "                        R_xxx[t][y][x] = result\n",
    "\n",
    "end_t = time.time()\n",
    "print('Average time = ', (end_t-start_t)/(21*144*176))"
   ]
  },
  {
   "cell_type": "code",
   "execution_count": null,
   "metadata": {},
   "outputs": [],
   "source": []
  }
 ],
 "metadata": {
  "kernelspec": {
   "display_name": "Python 3",
   "language": "python",
   "name": "python3"
  },
  "language_info": {
   "codemirror_mode": {
    "name": "ipython",
    "version": 3
   },
   "file_extension": ".py",
   "mimetype": "text/x-python",
   "name": "python",
   "nbconvert_exporter": "python",
   "pygments_lexer": "ipython3",
   "version": "3.6.10"
  }
 },
 "nbformat": 4,
 "nbformat_minor": 4
}
